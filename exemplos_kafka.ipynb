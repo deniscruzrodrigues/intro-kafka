{
 "cells": [
  {
   "cell_type": "markdown",
   "id": "fa0d1cfa",
   "metadata": {},
   "source": [
    "# Exemplos de Uso do Kafka em Python\n",
    "Este notebook contém exemplos práticos de como utilizar o Apache Kafka com Python."
   ]
  },
  {
   "cell_type": "code",
   "execution_count": null,
   "id": "a19b03f9",
   "metadata": {},
   "outputs": [],
   "source": [
    "# Exemplo 1: Configuração do produtor Kafka\n",
    "from kafka import KafkaProducer\n",
    "producer = KafkaProducer(\n",
    "    bootstrap_servers='localhost:9092',\n",
    "    value_serializer=lambda v: v.encode('utf-8')\n",
    ")"
   ]
  },
  {
   "cell_type": "code",
   "execution_count": null,
   "id": "12883019",
   "metadata": {},
   "outputs": [],
   "source": [
    "# Exemplo 2: Envio de mensagem simples\n",
    "producer.send('meu-topico', value='Olá, Kafka!')"
   ]
  },
  {
   "cell_type": "code",
   "execution_count": null,
   "id": "7588bd8b",
   "metadata": {},
   "outputs": [],
   "source": [
    "# Exemplo 3: Configuração do consumidor Kafka\n",
    "from kafka import KafkaConsumer\n",
    "consumer = KafkaConsumer(\n",
    "    'meu-topico',\n",
    "    bootstrap_servers='localhost:9092',\n",
    "    auto_offset_reset='earliest',\n",
    "    group_id='meu-grupo'\n",
    ")"
   ]
  },
  {
   "cell_type": "code",
   "execution_count": null,
   "id": "71df00bc",
   "metadata": {},
   "outputs": [],
   "source": [
    "# Exemplo 4: Consumir mensagens\n",
    "for mensagem in consumer:\n",
    "    print(f'Mensagem recebida: {mensagem.value.decode(utf-8)}')"
   ]
  },
  {
   "cell_type": "code",
   "execution_count": null,
   "id": "becd2567",
   "metadata": {},
   "outputs": [],
   "source": [
    "# Exemplo 5: Criação de tópicos com kafka-python\n",
    "from kafka.admin import KafkaAdminClient, NewTopic\n",
    "admin_client = KafkaAdminClient(bootstrap_servers='localhost:9092')\n",
    "topico = NewTopic(name='novo-topico', num_partitions=1, replication_factor=1)\n",
    "admin_client.create_topics(new_topics=[topico])"
   ]
  }
 ],
 "metadata": {
  "language_info": {
   "name": "python"
  }
 },
 "nbformat": 4,
 "nbformat_minor": 5
}
